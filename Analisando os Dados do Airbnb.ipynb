{
 "cells": [
  {
   "cell_type": "markdown",
   "metadata": {},
   "source": [
    "[![author](https://img.shields.io/badge/author-titocampos-red.svg)](https://github.com/titocampos/data_science_na_pratica)![contributions welcome](https://img.shields.io/badge/contributions-welcome-brightgreen.svg?style=flat)\n",
    "\n",
    "<p align=\"center\">\n",
    "  <img src=\"banner.png\" >\n",
    "</p>"
   ]
  }
 ],
 "metadata": {
  "kernelspec": {
   "display_name": "Python 3",
   "language": "python",
   "name": "python3"
  },
  "language_info": {
   "codemirror_mode": {
    "name": "ipython",
    "version": 3
   },
   "file_extension": ".py",
   "mimetype": "text/x-python",
   "name": "python",
   "nbconvert_exporter": "python",
   "pygments_lexer": "ipython3",
   "version": "3.7.6"
  }
 },
 "nbformat": 4,
 "nbformat_minor": 4
}
